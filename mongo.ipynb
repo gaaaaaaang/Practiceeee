{
 "cells": [
  {
   "cell_type": "code",
   "execution_count": 1,
   "metadata": {},
   "outputs": [
    {
     "name": "stdout",
     "output_type": "stream",
     "text": [
      "Collecting pymongo\n",
      "  Downloading pymongo-4.2.0-cp310-cp310-win_amd64.whl (374 kB)\n",
      "     -------------------------------------- 374.2/374.2 kB 1.3 MB/s eta 0:00:00\n",
      "Installing collected packages: pymongo\n",
      "Successfully installed pymongo-4.2.0\n"
     ]
    }
   ],
   "source": [
    "!pip install pymongo"
   ]
  },
  {
   "cell_type": "code",
   "execution_count": 2,
   "metadata": {},
   "outputs": [],
   "source": [
    "from pymongo import MongoClient"
   ]
  },
  {
   "cell_type": "code",
   "execution_count": 4,
   "metadata": {},
   "outputs": [],
   "source": [
    "client = MongoClient(\n",
    "    host = 'localhost',\n",
    "    port = 27017\n",
    "    )"
   ]
  },
  {
   "cell_type": "code",
   "execution_count": 5,
   "metadata": {},
   "outputs": [
    {
     "data": {
      "text/plain": [
       "['admin', 'config', 'local']"
      ]
     },
     "execution_count": 5,
     "metadata": {},
     "output_type": "execute_result"
    }
   ],
   "source": [
    "client.list_database_names()"
   ]
  },
  {
   "cell_type": "code",
   "execution_count": 6,
   "metadata": {},
   "outputs": [],
   "source": [
    "db = client['ubion']"
   ]
  },
  {
   "cell_type": "code",
   "execution_count": 7,
   "metadata": {},
   "outputs": [],
   "source": [
    "collection =db['test']"
   ]
  },
  {
   "cell_type": "code",
   "execution_count": 8,
   "metadata": {},
   "outputs": [
    {
     "data": {
      "text/plain": [
       "<pymongo.results.InsertOneResult at 0x1b226b41b10>"
      ]
     },
     "execution_count": 8,
     "metadata": {},
     "output_type": "execute_result"
    }
   ],
   "source": [
    "data = {\n",
    "    'id':'test',\n",
    "    'password':'1234'\n",
    "}\n",
    "\n",
    "collection.insert_one(data)"
   ]
  },
  {
   "cell_type": "code",
   "execution_count": 9,
   "metadata": {},
   "outputs": [
    {
     "data": {
      "text/plain": [
       "{'_id': ObjectId('632969635289d88031d54319'), 'id': 'test', 'password': '1234'}"
      ]
     },
     "execution_count": 9,
     "metadata": {},
     "output_type": "execute_result"
    }
   ],
   "source": [
    "collection.find_one()"
   ]
  },
  {
   "cell_type": "code",
   "execution_count": 13,
   "metadata": {},
   "outputs": [],
   "source": [
    "data = [\n",
    "    {\n",
    "        'name':'test',\n",
    "        'phone':\"01012345678\",\n",
    "        'gender':'male'\n",
    "    },\n",
    "    {\n",
    "        'loc':'seoul'\n",
    "    }\n",
    "]\n"
   ]
  },
  {
   "cell_type": "code",
   "execution_count": null,
   "metadata": {},
   "outputs": [],
   "source": [
    "collection.update_one(\n",
    "    {\n",
    "        'id':'test'\n",
    "    },\n",
    "    \n",
    ")"
   ]
  },
  {
   "cell_type": "code",
   "execution_count": null,
   "metadata": {},
   "outputs": [],
   "source": []
  },
  {
   "cell_type": "markdown",
   "metadata": {},
   "source": [
    "## mongoDB\n",
    "find(조건1,조건2,조건3, 어떤 컬럼을 보여줄지)\n",
    "1. db.collection.find() -> SELECT*FROM TABLE\n",
    "2. db.collection.find({}, {'id':1, 'password':1}) -> SELECT _id, id, password FROM TABLE\n",
    "3. db.collection.find({},{'id':1,'password':1, '_id':0}) -> SELECT id, password FROM TABLE\n",
    "4. db.collection.find({'id':'test'}) -> SELECT * FROM TABLE WHERE id='test'\n",
    "5. db.collection.find({'id':'test', 'password':'1234'}) -> SELECT * FROM TABLE WHERE id='test' and password='1234'\n",
    "6. db.collection.find({'id':'test}, {'password':'1234'}) -> SELECT * FROM TABLE WHERE id ='test' or password = '1234'\n",
    "7. db.collection.find({'age':{ $gt : 25}}) -> SELECT * FROM TABLE WHERE age >25\n",
    "8. db.collection.find({'age':{ $lt : 25}}) -> SELECT * FROM TABLE WHERE age <25\n",
    "9. db.collection.find({'id':{ /^bc/ }}) -> SELECT * FROM TABLE WHERE id LIKE \"%bc%\"\n",
    "10. db.collection.find().sort({\"id\":1}) -> SELECT * FROM TABLE ORDER BY id ASC\n",
    "11. db.collection.find().sort({\"id\":-1}) -> SELECT * FROM TABLE ORDER BY id DESC\n",
    "12. db.collection.find().limit(10) -> SELECT * FROM TABLE LIMIT 10"
   ]
  },
  {
   "cell_type": "code",
   "execution_count": null,
   "metadata": {},
   "outputs": [],
   "source": []
  },
  {
   "cell_type": "code",
   "execution_count": null,
   "metadata": {},
   "outputs": [],
   "source": []
  },
  {
   "cell_type": "code",
   "execution_count": null,
   "metadata": {},
   "outputs": [],
   "source": []
  },
  {
   "cell_type": "code",
   "execution_count": null,
   "metadata": {},
   "outputs": [],
   "source": []
  }
 ],
 "metadata": {
  "kernelspec": {
   "display_name": "Python 3.10.6 64-bit",
   "language": "python",
   "name": "python3"
  },
  "language_info": {
   "codemirror_mode": {
    "name": "ipython",
    "version": 3
   },
   "file_extension": ".py",
   "mimetype": "text/x-python",
   "name": "python",
   "nbconvert_exporter": "python",
   "pygments_lexer": "ipython3",
   "version": "3.10.6"
  },
  "orig_nbformat": 4,
  "vscode": {
   "interpreter": {
    "hash": "d4d89d9c2a8fda2769fa326fa3d00908c9a8759a8068a6e279faebea338bf14b"
   }
  }
 },
 "nbformat": 4,
 "nbformat_minor": 2
}
